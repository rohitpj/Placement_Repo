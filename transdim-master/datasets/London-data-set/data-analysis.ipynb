{
 "cells": [
  {
   "cell_type": "markdown",
   "metadata": {},
   "source": [
    "# London movement speed data analysis\n",
    "\n",
    "Author: Xinyu Chen (mail to: [chenxy346@gmail.com](chenxy346@gmail.com))\n"
   ]
  },
  {
   "cell_type": "markdown",
   "metadata": {},
   "source": [
    "## About data set\n",
    "\n",
    "This data set is created by [Uber Movement](https://movement.uber.com/) project, which includes the average speed on a given road segment for each hour of each day in April 2019. In this data set, there are about 220,000 road segments (with different directions). Note that this data set only includes road segments with at least 5 unique trips in that hour. There are up to 73.09% missing values and most missing values are produced during night. We could preferably choose the subset of this raw data set into a time series matrix of $35912\\times720$ in which each time series has at least 70% observations.\n"
   ]
  },
  {
   "cell_type": "markdown",
   "metadata": {},
   "source": [
    "## Data behavior\n",
    "\n",
    "There are some data behaviors/characteristics associated with mobile sensing:\n",
    "\n",
    "- Extremely *high-dimensional*\n",
    "- Extremely *corrupted* and *incomplete*\n",
    "\n",
    "There are massive amount of road segments with different directions, and which also implies high spatial resolution. Even though this data set is massive, it is far from complete because of sufficient sampling:\n",
    "\n",
    "- High-resolution road segmentation\n",
    "- The data set only includes road segments with at least 5 unique trips in that hour"
   ]
  },
  {
   "cell_type": "markdown",
   "metadata": {},
   "source": [
    "### License\n",
    "\n",
    "<div class=\"alert alert-block alert-danger\">\n",
    "<b>This work is released under the MIT license.</b>\n",
    "</div>"
   ]
  }
 ],
 "metadata": {
  "kernelspec": {
   "display_name": "Python 3",
   "language": "python",
   "name": "python3"
  },
  "language_info": {
   "codemirror_mode": {
    "name": "ipython",
    "version": 3
   },
   "file_extension": ".py",
   "mimetype": "text/x-python",
   "name": "python",
   "nbconvert_exporter": "python",
   "pygments_lexer": "ipython3",
   "version": "3.8.3"
  }
 },
 "nbformat": 4,
 "nbformat_minor": 4
}
